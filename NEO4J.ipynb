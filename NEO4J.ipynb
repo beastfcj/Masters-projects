{
 "cells": [
  {
   "cell_type": "markdown",
   "metadata": {},
   "source": [
    "# Big Data Modeling and Management Assigment - Homework 1"
   ]
  },
  {
   "cell_type": "markdown",
   "metadata": {},
   "source": [
    "## 🍺 The Beer project  🍺 \n",
    "\n",
    "Graph databases are a natural way of navigating distinct types of data. For this first project we will be taking a graph database to analyse beer and breweries!   \n",
    "\n",
    "_For reference the dataset used for this project has been extracted from [kaggle](https://www.kaggle.com/ehallmar/beers-breweries-and-beer-reviews), released by Evan Hallmark. Even though the author does not present metadata on the origin of the data it is probably a collection of open data from places like [beeradvocate](https://www.beeradvocate.com/)_.\n",
    "\n",
    "### Problem description\n",
    "\n",
    "Explore the database via python neo4j connector and/or the graphical tool in the NEO4J webpage. Answer the questions with python syntax. Submit the results by following the instructions.\n",
    "\n",
    "\n",
    "### Questions\n",
    "\n",
    "1. How many distinct countries exist in the database? [Hint: mind repetitions]\n",
    "1. Most reviews:  \n",
    "    1. Which `Beer` has the most reviews?  \n",
    "    1. Which `Brewery` has the most reviews for its beers? [Hint: 5-node path]\n",
    "    1. Which `Country` has the most reviews for its beers? [Hint: 5-node path]\n",
    "1. Who is/are the user/users that have the most shared reviews (reviews of the same beers) with the user CTJman?\n",
    "1. Which Portuguese brewery has the most beers?\n",
    "1. From those beers (the ones returned from the previous question), which has the most reviews?\n",
    "1. On average how many different beer styles does each brewery produce?\n",
    "1. Which brewery produces the strongest beers according to ABV? [Hint: database has NaN values]\n",
    "1. If I typically enjoy a beer due to its aroma and appearance, which beer style should I try? (Justify your answer) [Hint: database has NaN values]\n",
    "1. Using Graph Algorithms answer **one** of the following questions: [NB: make sure to clear the graph before using it again]\n",
    "    1. Which two countries are most similiar when it comes to their **top 10** most produced Beer styles?\n",
    "    2. Which beer is the most influential when considering the number of users who reviewed it? [Please use limit of 1000 on beer-review-user path]]\n",
    "    3. Users are connected together by their reviews of beers, taking into consideration the \"overall\" score they assign as a weight, how many communities are formed from these relationships? How many users are in the largest community? [Please use limit of 1000 on beer-review-user path]]\n",
    "1. Using Graph Algorithms answer **one** of the following questions:\n",
    "    1. Which beer has the most similar reviews as the beer `Super Bock Stout`? [Hint:inspect two subsets: with and without the beer in question]\n",
    "    2. Which user is the most influential when it comes to reviews made?\n",
    "1. If you had to pick 3 beers to recommend using only this database, which would you pick and why? (Justify your answer) [Hint: database has NaN values]\n",
    "\n",
    "\n",
    "Questions 8 to 10 are somewhat open, which means we'll also be evaluating the reasoning behind your answer. So there aren't necessarily bad results there are only wrong criteria, explanations, or execution. \n",
    " \n",
    "### Groups  \n",
    "\n",
    "Groups should have 4 to 5 people.\n",
    "You should register your group on **moodle**.\n",
    "\n",
    "### Submission      \n",
    "\n",
    "The code used to produce the results and respective explanations should be uploaded to moodle. They should have a clear reference to the group, either on the file name or on the document itself (please submit one Jupyter notebook per group).\n",
    "\n",
    "### Evaluation   \n",
    "\n",
    "This will be 20% of the final grade.   \n",
    "Each solution will be evaluated on 2 components: correctness of results and simplicity of the solution.  \n",
    "All code will go through plagiarism automated checks. Groups with the same code will undergo investigation."
   ]
  },
  {
   "cell_type": "markdown",
   "metadata": {},
   "source": [
    "## Loading the Database\n",
    "\n",
    "#### Be sure that you **don't have** the neo4j docker container from the classes running (you can Stop it in the desktop app or with the command \"`docker stop Neo4JLab`\")\n",
    "\n",
    "\n",
    "The default container does not have any data whatsoever, we will have to load a database into our docker image:\n",
    "- Download and unzip the `Neo4JHWData` file provided on Moodle (apr. 6 Gb).\n",
    "- Copy the path of the `Neo4JHWData` folder of the unziped file, e.g. `c:\\Users\\osavc\\Documents\\Nova_BDMM\\_2024\\Homework\\Neo4JHWData/data`.\n",
    "- Download and unzip the `Neo4JPlugins` file provided on Moodle (it is the same plugins as for the labs).\n",
    "- Copy the path of the `Neo4JPlugins` folder of the unziped file, e.g. `c:\\Users\\osavc\\Documents\\Nova_BDMM\\_2024\\Installations\\Neo4JPlugins`.\n",
    "- Change the code below to include your correct folder paths. Be sure that you have Docker running first:\n",
    "\n",
    "`docker run --name Neo4JHW -p 7474:7474 -p 7687:7687 -d -v \"C:\\Users\\osavc\\Documents\\Nova_BDMM\\_2024\\Installations\\Neo4JPlugins\":/plugins -v \"C:\\Users\\osavc\\Documents\\Nova_BDMM\\_2024\\HW1\\Neo4JHWData/data\":/data --env NEO4J_AUTH=neo4j/test --env NEO4J_dbms_connector_https_advertised__address=\"localhost:7473\" --env NEO4J_dbms_connector_http_advertised__address=\"localhost:7474\" --env NEO4J_dbms_connector_bolt_advertised__address=\"localhost:7687\" --env NEO4J_dbms_security_procedures_unrestricted=\"gds.*\" --env NEO4J_dbms_security_procedures_allowlist=\"gds.*\" neo4j:4.4.5`\n",
    "\n",
    "- Since Neo4j is trying to recognize a new database folder, this might take a bit  before you can view the data on Neo4j webpage (let's say 3 minutes)."
   ]
  },
  {
   "cell_type": "code",
   "execution_count": 51,
   "metadata": {
    "ExecuteTime": {
     "end_time": "2024-03-16T18:15:13.587404Z",
     "start_time": "2024-03-16T18:15:13.580226Z"
    }
   },
   "outputs": [],
   "source": [
    "from neo4j import GraphDatabase\n",
    "from pprint import pprint"
   ]
  },
  {
   "cell_type": "code",
   "execution_count": 52,
   "metadata": {
    "ExecuteTime": {
     "end_time": "2024-03-16T18:15:13.714565Z",
     "start_time": "2024-03-16T18:15:13.710424Z"
    }
   },
   "outputs": [],
   "source": [
    "NEO4J_URI=\"neo4j://localhost:7687\"\n",
    "NEO4J_USERNAME=\"neo4j\"\n",
    "NEO4J_PASSWORD=\"test\""
   ]
  },
  {
   "cell_type": "code",
   "execution_count": 53,
   "metadata": {
    "ExecuteTime": {
     "end_time": "2024-03-16T18:15:13.725306Z",
     "start_time": "2024-03-16T18:15:13.716640Z"
    }
   },
   "outputs": [],
   "source": [
    "driver = GraphDatabase.driver(NEO4J_URI, auth=(NEO4J_USERNAME, NEO4J_PASSWORD), )"
   ]
  },
  {
   "cell_type": "markdown",
   "metadata": {},
   "source": [
    "### All The Functions you'll need to run queries in Neo4J"
   ]
  },
  {
   "cell_type": "code",
   "execution_count": 54,
   "metadata": {
    "ExecuteTime": {
     "end_time": "2024-03-16T18:15:13.730455Z",
     "start_time": "2024-03-16T18:15:13.726310Z"
    }
   },
   "outputs": [],
   "source": [
    "def execute_read(driver, query):    \n",
    "    with driver.session(database=\"neo4j\") as session:\n",
    "        result = session.execute_read(lambda tx, query: list(tx.run(query)), query)\n",
    "    return result"
   ]
  },
  {
   "cell_type": "markdown",
   "metadata": {},
   "source": [
    "### Understanding the Database"
   ]
  },
  {
   "cell_type": "code",
   "execution_count": 55,
   "metadata": {
    "ExecuteTime": {
     "end_time": "2024-03-16T18:15:13.932430Z",
     "start_time": "2024-03-16T18:15:13.736979Z"
    }
   },
   "outputs": [
    {
     "name": "stdout",
     "output_type": "stream",
     "text": [
      "[<Record label='COUNTRIES'>,\n",
      " <Record label='CITIES'>,\n",
      " <Record label='BREWERIES'>,\n",
      " <Record label='BEERS'>,\n",
      " <Record label='REVIEWS'>,\n",
      " <Record label='STYLE'>,\n",
      " <Record label='USER'>]\n"
     ]
    }
   ],
   "source": [
    "query = \"\"\"\n",
    "        call db.labels();\n",
    "    \"\"\"\n",
    "\n",
    "result = execute_read(driver, query)\n",
    "\n",
    "pprint(result)"
   ]
  },
  {
   "cell_type": "code",
   "execution_count": 56,
   "metadata": {
    "ExecuteTime": {
     "end_time": "2024-03-16T18:15:13.944941Z",
     "start_time": "2024-03-16T18:15:13.933435Z"
    }
   },
   "outputs": [
    {
     "name": "stdout",
     "output_type": "stream",
     "text": [
      "[<Record relationshipType='REVIEWED'>,\n",
      " <Record relationshipType='BREWED'>,\n",
      " <Record relationshipType='IN'>,\n",
      " <Record relationshipType='HAS_STYLE'>,\n",
      " <Record relationshipType='POSTED'>]\n"
     ]
    }
   ],
   "source": [
    "query = \"\"\"\n",
    "        CALL db.relationshipTypes();\n",
    "    \"\"\"\n",
    "\n",
    "result = execute_read(driver, query)\n",
    "\n",
    "pprint(result)"
   ]
  },
  {
   "cell_type": "markdown",
   "metadata": {},
   "source": [
    "# Submission\n",
    "\n",
    "GROUP NUMBER:\n",
    "\n",
    "**878787**\n",
    "\n",
    "GROUP MEMBERS:\n",
    "\n",
    "| STUDENT NUMBER | STUDENT NAME   |\n",
    "|----------------|----------------|\n",
    "| 20230570       | André Lopes    |\n",
    "| 20230584       | Luís Queiroz   |\n",
    "| 20230596       | Raquel Mendes  |\n",
    "| 20230560       | João Gonçalves |\n",
    "| XXXXXX         | XXXXXX         |"
   ]
  },
  {
   "cell_type": "markdown",
   "metadata": {},
   "source": [
    "#### 1. How many distinct countries exist in the database?"
   ]
  },
  {
   "cell_type": "code",
   "execution_count": 57,
   "metadata": {
    "ExecuteTime": {
     "end_time": "2024-03-16T18:15:13.965360Z",
     "start_time": "2024-03-16T18:15:13.944941Z"
    }
   },
   "outputs": [
    {
     "name": "stdout",
     "output_type": "stream",
     "text": [
      "[<Record DISTINCT_COUNTRIES_COUNT=200>]\n"
     ]
    }
   ],
   "source": [
    "query='''\n",
    "    MATCH(c:COUNTRIES)\n",
    "    RETURN COUNT(DISTINCT c.name) AS DISTINCT_COUNTRIES_COUNT\n",
    "'''\n",
    "\n",
    "result= execute_read(driver, query)\n",
    "pprint(result)"
   ]
  },
  {
   "cell_type": "markdown",
   "metadata": {},
   "source": [
    "#### 2. Most reviews:  \n",
    "    A) Which `Beer` has the most reviews?  \n",
    "    B) Which `Brewery` has the most reviews for its beers?\n",
    "    C) Which `Country` has the most reviews for its beers? "
   ]
  },
  {
   "cell_type": "markdown",
   "metadata": {
    "collapsed": false
   },
   "source": [
    "##### 2. A) Which Beer has the most reviews? "
   ]
  },
  {
   "cell_type": "markdown",
   "metadata": {},
   "source": [
    "In this scenario, when we group reviews by a specific beer ID, we find that \"Breakfast Stout\" (beer_id = 11757) has the highest number of reviews. However, this beer is associated with a particular brewery. To obtain a more generalized count independent of breweries, we need to group the reviews by beer name. Doing so reveals that the most reviewed beer is \"IPA\", totaling 31387 reviews."
   ]
  },
  {
   "cell_type": "code",
   "execution_count": 58,
   "metadata": {
    "ExecuteTime": {
     "end_time": "2024-03-16T18:15:50.500456Z",
     "start_time": "2024-03-16T18:15:13.966366Z"
    }
   },
   "outputs": [
    {
     "name": "stdout",
     "output_type": "stream",
     "text": [
      "[<Record beer_name='IPA' review_count=31387>]\n"
     ]
    }
   ],
   "source": [
    "query='''\n",
    "    MATCH (b:BEERS)-[r:REVIEWED]->(re:REVIEWS)\n",
    "    WITH b.name as beer_name, COUNT(*) AS review_count\n",
    "    RETURN beer_name, review_count\n",
    "    ORDER BY review_count DESC\n",
    "    LIMIT 1\n",
    "'''\n",
    "result= execute_read(driver, query)\n",
    "pprint(result)"
   ]
  },
  {
   "cell_type": "markdown",
   "metadata": {
    "collapsed": false
   },
   "source": [
    "##### 2. B) Which Brewery has the most reviews for its beers?"
   ]
  },
  {
   "cell_type": "markdown",
   "metadata": {},
   "source": [
    "In this context, we're organizing breweries by their IDs, which yields the same outcome as grouping them by name because breweries sharing the same name also have identical IDs. Consequently, the most reviewed brewery is \"Sierra Nevada Brewing Co.\", accumulating 175161 reviews."
   ]
  },
  {
   "cell_type": "code",
   "execution_count": 59,
   "metadata": {
    "ExecuteTime": {
     "end_time": "2024-03-16T18:15:59.324239Z",
     "start_time": "2024-03-16T18:15:50.501792Z"
    }
   },
   "outputs": [
    {
     "name": "stdout",
     "output_type": "stream",
     "text": [
      "[<Record brewery_id='140' brewery_name='Sierra Nevada Brewing Co.' review_count=175161>]\n"
     ]
    }
   ],
   "source": [
    "query='''\n",
    "    MATCH (br:BREWERIES)-[:BREWED]->(b:BEERS)-[:REVIEWED]->(re:REVIEWS)\n",
    "    WITH br.id AS brewery_id, br.name AS brewery_name, COUNT(re) AS review_count\n",
    "    RETURN brewery_id, brewery_name, review_count\n",
    "    ORDER BY review_count DESC\n",
    "    LIMIT 1\n",
    "'''\n",
    "result= execute_read(driver, query)\n",
    "pprint(result)"
   ]
  },
  {
   "cell_type": "markdown",
   "metadata": {
    "collapsed": false
   },
   "source": [
    "##### 2. C) Which Country has the most reviews for its beers?"
   ]
  },
  {
   "cell_type": "markdown",
   "metadata": {
    "collapsed": false
   },
   "source": [
    "Similarly, we group the countries by their names and then count the number of reviews. As a result, the country with the highest number of reviews for its beers is the \"US\", boasting a total of 7675804 reviews."
   ]
  },
  {
   "cell_type": "code",
   "execution_count": 60,
   "metadata": {
    "ExecuteTime": {
     "end_time": "2024-03-16T18:16:06.036422Z",
     "start_time": "2024-03-16T18:15:59.325245Z"
    }
   },
   "outputs": [
    {
     "name": "stdout",
     "output_type": "stream",
     "text": [
      "[<Record country_name='US' review_count=7675804>]\n"
     ]
    }
   ],
   "source": [
    "query='''\n",
    "    MATCH (cn:COUNTRIES)<-[:IN]-(c:CITIES)<-[:IN]-(br:BREWERIES)-[:BREWED]->(b:BEERS)-[:REVIEWED]->(re:REVIEWS)\n",
    "    WITH cn.name AS country_name, COUNT(re) AS review_count\n",
    "    RETURN country_name, review_count\n",
    "    ORDER BY review_count DESC\n",
    "    LIMIT 1\n",
    "'''\n",
    "result= execute_read(driver, query)\n",
    "pprint(result)"
   ]
  },
  {
   "cell_type": "markdown",
   "metadata": {},
   "source": [
    "#### 3. Who is/are the user/users that have the most shared reviews (reviews of the same beers) with the user CTJman?"
   ]
  },
  {
   "cell_type": "markdown",
   "metadata": {
    "ExecuteTime": {
     "end_time": "2024-03-11T19:05:40.503617Z",
     "start_time": "2024-03-11T19:05:40.501473Z"
    },
    "collapsed": false
   },
   "source": [
    "Here, we're retrieving all users who reviewed the same beers as user 2, \"CTJman\", and then counting the frequency of each user's appearance."
   ]
  },
  {
   "cell_type": "code",
   "execution_count": 61,
   "metadata": {
    "ExecuteTime": {
     "end_time": "2024-03-16T18:16:16.425356Z",
     "start_time": "2024-03-16T18:16:06.037430Z"
    }
   },
   "outputs": [
    {
     "name": "stdout",
     "output_type": "stream",
     "text": [
      "[<Record other_user_name='acurtis' shared_review_count=1428>,\n",
      " <Record other_user_name='Texasfan549' shared_review_count=1257>,\n",
      " <Record other_user_name='kjkinsey' shared_review_count=1205>,\n",
      " <Record other_user_name='oline73' shared_review_count=1191>,\n",
      " <Record other_user_name='chippo33' shared_review_count=1161>]\n"
     ]
    }
   ],
   "source": [
    "query='''\n",
    "    MATCH (u1:USER)<-[:POSTED]-(re1:REVIEWS)<-[:REVIEWED]-(b:BEERS)-[:REVIEWED]->(re:REVIEWS)-[:POSTED]->(u2:USER)\n",
    "    WHERE u1.name = 'CTJman' AND u1 <> u2\n",
    "    WITH u2.name AS other_user_name, COUNT(*) AS shared_review_count\n",
    "    RETURN other_user_name, shared_review_count\n",
    "    ORDER BY shared_review_count DESC\n",
    "    LIMIT 5\n",
    "'''\n",
    "result= execute_read(driver, query)\n",
    "pprint(result)"
   ]
  },
  {
   "cell_type": "markdown",
   "metadata": {},
   "source": [
    "#### 4. Which Portuguese brewery has the most beers?\n"
   ]
  },
  {
   "cell_type": "markdown",
   "metadata": {},
   "source": [
    "Here, we're narrowing down the country nodes to those with the name \"PT\", then grouping them by brewery ID to count the number of beers in each brewery. Consequently, the brewery with the highest number of beers, in Portugal, is \"Dois Corvos Crevejeira\"."
   ]
  },
  {
   "cell_type": "code",
   "execution_count": 62,
   "metadata": {
    "ExecuteTime": {
     "end_time": "2024-03-16T18:16:16.468323Z",
     "start_time": "2024-03-16T18:16:16.425356Z"
    }
   },
   "outputs": [
    {
     "name": "stdout",
     "output_type": "stream",
     "text": [
      "[<Record brewery_id='43285' brewery_name='Dois Corvos Cervejeira' stock=40>]\n"
     ]
    }
   ],
   "source": [
    "query='''\n",
    "    MATCH (cn:COUNTRIES{name:'PT'})<-[:IN]-(c:CITIES)<-[:IN]-(br:BREWERIES)-[:BREWED]->(b:BEERS)\n",
    "    WITH br.id AS brewery_id, br.name AS brewery_name, COUNT(b) AS stock\n",
    "    RETURN brewery_id, brewery_name, stock\n",
    "    ORDER BY stock DESC\n",
    "    LIMIT 1\n",
    "'''\n",
    "result= execute_read(driver, query)\n",
    "pprint(result)"
   ]
  },
  {
   "cell_type": "markdown",
   "metadata": {},
   "source": [
    "#### 5. From those beers (the ones produced in the brewery from the previous question), which has the most reviews?\n"
   ]
  },
  {
   "cell_type": "markdown",
   "metadata": {},
   "source": [
    "Initially, we filter breweries by the specific ID \"43285\", then group them by distinct beer IDs and count the number of reviews for each beer. As a result, the most reviewed beer is \"Finisterra\"."
   ]
  },
  {
   "cell_type": "code",
   "execution_count": 63,
   "metadata": {
    "ExecuteTime": {
     "end_time": "2024-03-16T18:16:16.499758Z",
     "start_time": "2024-03-16T18:16:16.469327Z"
    }
   },
   "outputs": [
    {
     "name": "stdout",
     "output_type": "stream",
     "text": [
      "[<Record brewery_name='Dois Corvos Cervejeira' beer_id='216709' beer_name='Finisterra' number_of_reviews=10>]\n"
     ]
    }
   ],
   "source": [
    "query='''\n",
    "    MATCH (br:BREWERIES{id:'43285'})-[:BREWED]->(b:BEERS)-[:REVIEWED]->(re:REVIEWS)\n",
    "    WITH br.name AS brewery_name, b.id AS beer_id, b.name AS beer_name, COUNT(re) AS number_of_reviews\n",
    "    RETURN brewery_name, beer_id, beer_name, number_of_reviews\n",
    "    ORDER BY number_of_reviews DESC\n",
    "    LIMIT 1\n",
    "'''\n",
    "result= execute_read(driver, query)\n",
    "pprint(result)"
   ]
  },
  {
   "cell_type": "markdown",
   "metadata": {},
   "source": [
    "#### 6. On average how many different beer styles does each brewery produce?"
   ]
  },
  {
   "cell_type": "markdown",
   "metadata": {
    "ExecuteTime": {
     "end_time": "2024-03-11T19:05:48.403431Z",
     "start_time": "2024-03-11T19:05:48.400139Z"
    },
    "collapsed": false
   },
   "source": [
    "Initially, we group the results by different breweries and count the number of distinct beer styles produced by each. Then, we calculate the average number of these distinct styles across all breweries. As a result, we found that, on average, a brewery produces approximately 11 different beer styles."
   ]
  },
  {
   "cell_type": "code",
   "execution_count": 64,
   "metadata": {
    "ExecuteTime": {
     "end_time": "2024-03-16T18:16:19.614396Z",
     "start_time": "2024-03-16T18:16:16.501278Z"
    }
   },
   "outputs": [
    {
     "name": "stdout",
     "output_type": "stream",
     "text": [
      "[<Record avg_style_count=10.595992516144538>]\n"
     ]
    }
   ],
   "source": [
    "query='''\n",
    "    MATCH (br:BREWERIES)-[:BREWED]->(b:BEERS)-[:HAS_STYLE]->(s:STYLE)\n",
    "    WITH br, COUNT(DISTINCT s) AS number_of_styles\n",
    "    RETURN AVG(number_of_styles) AS avg_style_count\n",
    "'''\n",
    "result=execute_read(driver, query)\n",
    "pprint(result)"
   ]
  },
  {
   "cell_type": "markdown",
   "metadata": {},
   "source": [
    "#### 7. Which brewery produces the strongest beers according to ABV?"
   ]
  },
  {
   "cell_type": "markdown",
   "metadata": {
    "ExecuteTime": {
     "end_time": "2024-03-11T19:05:51.430535Z",
     "start_time": "2024-03-11T19:05:51.427704Z"
    }
   },
   "source": [
    "Here, we're grouping breweries by their names and then calculating the average ABV for the beers produced in each brewery. To ensure accuracy, NaN values are converted to null, thus preserving the integrity of the average calculation."
   ]
  },
  {
   "cell_type": "code",
   "execution_count": 65,
   "metadata": {
    "collapsed": false,
    "ExecuteTime": {
     "end_time": "2024-03-16T18:16:21.288957Z",
     "start_time": "2024-03-16T18:16:19.614396Z"
    }
   },
   "outputs": [
    {
     "name": "stdout",
     "output_type": "stream",
     "text": [
      "[<Record brewery_name='1648 Brewing Company Ltd' avg_abv=25.57777777777778>]\n"
     ]
    }
   ],
   "source": [
    "query='''\n",
    "    MATCH (br:BREWERIES)-[:BREWED]->(b:BEERS)\n",
    "    WITH br.name AS brewery_name, AVG(coalesce(toFloat(b.abv), null)) AS avg_abv\n",
    "    WHERE avg_abv IS NOT NULL\n",
    "    RETURN brewery_name, avg_abv\n",
    "    ORDER BY avg_abv DESC\n",
    "    LIMIT 1\n",
    "'''\n",
    "result=execute_read(driver, query)\n",
    "pprint(result)"
   ]
  },
  {
   "cell_type": "markdown",
   "metadata": {},
   "source": [
    "#### 8. If I typically enjoy a beer due to its aroma and appearance, which beer style should I try?"
   ]
  },
  {
   "cell_type": "markdown",
   "metadata": {},
   "source": [
    "For aroma we assumed it is equivalent only to the smell rating and for appearance we assumed it is equivalent only to the look rating. Our rationale behind identifying the best beer style for individuals who prioritize aroma and appearance lies in calculating the respective average ratings for smell and look. In this case we assumed it would make sense if the user did not want to leave a rating so we decided to transform the NaN values to null and then not include those for the averages. After this we just summed up the averages to see what beer style had the highest value with \"New England IPA\" (8.797210377972055) being the highest."
   ]
  },
  {
   "cell_type": "code",
   "execution_count": 66,
   "metadata": {
    "ExecuteTime": {
     "end_time": "2024-03-16T18:18:48.183738Z",
     "start_time": "2024-03-16T18:16:21.289968Z"
    }
   },
   "outputs": [
    {
     "name": "stdout",
     "output_type": "stream",
     "text": [
      "[<Record style_type='New England IPA' total_avg=8.797210377972055>,\n",
      " <Record style_type='American Imperial Stout' total_avg=8.549279798292341>]\n"
     ]
    }
   ],
   "source": [
    "query='''\n",
    "    MATCH (r:REVIEWS)<-[:REVIEWED]-(b:BEERS)-[:HAS_STYLE]->(s:STYLE)\n",
    "    WITH s.name AS style_type, AVG(coalesce(toFloat(r.smell), null)) AS avg_smell, AVG(coalesce(toFloat(r.look), null)) AS avg_look\n",
    "    WHERE avg_smell IS NOT NULL AND avg_look IS NOT NULL\n",
    "    RETURN style_type, avg_smell + avg_look AS total_avg\n",
    "    ORDER BY total_avg DESC\n",
    "    LIMIT 2\n",
    "'''\n",
    "result= execute_read(driver, query)\n",
    "pprint(result)"
   ]
  },
  {
   "cell_type": "markdown",
   "metadata": {},
   "source": [
    "#### 9. Using Graph Algorithms answer **one** of the following questions:\n",
    "    A. Which two countries are most similiar when it comes to their **top 10** most produced Beer styles?\n",
    "    B. Which beer is the most influential when considering the number of users who reviewed it?\n",
    "    C. Users are connected together by their reviews to beers, taking into consideration the \"overall\" score they review as a weight, how many communities are formed from these relationships? How many users are in the largest community?"
   ]
  },
  {
   "cell_type": "markdown",
   "metadata": {},
   "source": [
    "We chose to solve question B. \n"
   ]
  },
  {
   "cell_type": "markdown",
   "metadata": {},
   "source": [
    "__Step 1:__ Delete any previously created graph to avoid conflicts and ensure a clean slate for the new graph projection."
   ]
  },
  {
   "cell_type": "code",
   "execution_count": 67,
   "metadata": {
    "ExecuteTime": {
     "end_time": "2024-03-16T18:18:48.249308Z",
     "start_time": "2024-03-16T18:18:48.183738Z"
    }
   },
   "outputs": [
    {
     "name": "stdout",
     "output_type": "stream",
     "text": [
      "[<Record graphName='beer_graph'>]\n"
     ]
    }
   ],
   "source": [
    "# Clear graph, graph names need to be unique\n",
    "\n",
    "try:\n",
    "    query = \"\"\"\n",
    "            CALL gds.graph.drop('beer_graph') YIELD graphName;\n",
    "        \"\"\"\n",
    "\n",
    "    result = execute_read(driver, query)\n",
    "\n",
    "    pprint(result)\n",
    "except Exception as e:\n",
    "    pprint(e)"
   ]
  },
  {
   "cell_type": "markdown",
   "metadata": {},
   "source": [
    "__Step 2:__ Create a graph to apply the PageRank algorithm. This graph consists of only two node types (users and beers). Users are the source nodes, beers are the target nodes, and each edge has a weight of 1. The relationships are represented as (:USER)-[1]->(:BEER)."
   ]
  },
  {
   "cell_type": "code",
   "execution_count": 68,
   "metadata": {
    "ExecuteTime": {
     "end_time": "2024-03-16T18:18:49.241697Z",
     "start_time": "2024-03-16T18:18:48.250315Z"
    }
   },
   "outputs": [
    {
     "name": "stdout",
     "output_type": "stream",
     "text": [
      "[<Record nodeQuery='MATCH (b:BEERS) RETURN id(b) AS id\\n             UNION\\n             MATCH (u:USER) RETURN id(u) AS id' relationshipQuery='MATCH (u:USER)<-[:POSTED]-(r:REVIEWS)<-[:REVIEWED]-(b:BEERS) \\n            RETURN id(u) AS source,1 as weight, id(b) AS target\\n            LIMIT 1000' graphName='beer_graph' nodeCount=882681 relationshipCount=1000 projectMillis=932>]\n"
     ]
    }
   ],
   "source": [
    "# Creating the graph\n",
    "try:\n",
    "    query = \"\"\"\n",
    "        CALL gds.graph.project.cypher(\n",
    "            'beer_graph',\n",
    "            \n",
    "            'MATCH (b:BEERS) RETURN id(b) AS id\n",
    "             UNION\n",
    "             MATCH (u:USER) RETURN id(u) AS id',\n",
    "            \n",
    "            'MATCH (u:USER)<-[:POSTED]-(r:REVIEWS)<-[:REVIEWED]-(b:BEERS) \n",
    "            RETURN id(u) AS source,1 as weight, id(b) AS target\n",
    "            LIMIT 1000'\n",
    "            )\n",
    "      \"\"\"\n",
    "    result = execute_read(driver, query)\n",
    "    pprint(result)\n",
    "except Exception as e:\n",
    "    pprint(e)"
   ]
  },
  {
   "cell_type": "markdown",
   "metadata": {},
   "source": [
    "__Step 3:__ After creating the graph, we can apply the PageRank algorithm to discover which beer is the most influential. However, it's important to note that due to limiting the relations to 1000, the accuracy of the results may be compromised to expedite the computation process. We ran the code without a limit, and \"Heady Topper\" emerged as the most influential beer, with a corresponding score of 193.42. However, given the limit we applied, we would feel comfortable identifying any of the top 20 beers in the output as the most influential."
   ]
  },
  {
   "cell_type": "code",
   "execution_count": 69,
   "metadata": {
    "ExecuteTime": {
     "end_time": "2024-03-16T18:18:49.747245Z",
     "start_time": "2024-03-16T18:18:49.241697Z"
    }
   },
   "outputs": [
    {
     "name": "stdout",
     "output_type": "stream",
     "text": [
      "[<Record nodeId=239820 name='Witte Wheat Ale' score=0.15012750000000002>,\n",
      " <Record nodeId=240574 name='Cherry Chocolate' score=0.15012750000000002>,\n",
      " <Record nodeId=239451 name='Blue Sunday Sour' score=0.15012750000000002>,\n",
      " <Record nodeId=239809 name='Small Craft Warning' score=0.15012750000000002>,\n",
      " <Record nodeId=239965 name='Maharaja' score=0.15012750000000002>,\n",
      " <Record nodeId=240245 name='Salted Caramel' score=0.15012750000000002>,\n",
      " <Record nodeId=238393 name='Winter Warmer' score=0.15012750000000002>,\n",
      " <Record nodeId=238733 name='Hootspa Wheat' score=0.15012750000000002>,\n",
      " <Record nodeId=239641 name='New Grist Gluten-Free Pilsner Style Beer' score=0.15012750000000002>,\n",
      " <Record nodeId=239686 name='Mango Magnifico' score=0.15012750000000002>,\n",
      " <Record nodeId=239911 name='Tricerahops Double IPA' score=0.15012750000000002>,\n",
      " <Record nodeId=239912 name='Happily Ebony After' score=0.15012750000000002>,\n",
      " <Record nodeId=240004 name=\"Veldensteiner Zwick'l\" score=0.15012750000000002>,\n",
      " <Record nodeId=240237 name='Blue Moon Belgian Pale Ale' score=0.15012750000000002>,\n",
      " <Record nodeId=238032 name=\"Red's Rye IPA\" score=0.15012750000000002>,\n",
      " <Record nodeId=238389 name='Lagunitas Sirius Ale' score=0.15012750000000002>,\n",
      " <Record nodeId=238713 name='War On Wheat' score=0.15012750000000002>,\n",
      " <Record nodeId=238719 name='Rounding Third' score=0.15012750000000002>,\n",
      " <Record nodeId=239583 name='Momma RYE IPA' score=0.15012750000000002>,\n",
      " <Record nodeId=240681 name='Saison De Lente' score=0.15012750000000002>]\n"
     ]
    }
   ],
   "source": [
    "# Running the PageRank algorithm\n",
    "\n",
    "try:\n",
    "    query = \"\"\"\n",
    "        CALL gds.pageRank.stream('beer_graph', {relationshipWeightProperty:'weight'})\n",
    "            \n",
    "            YIELD nodeId, score\n",
    "            \n",
    "            RETURN nodeId,gds.util.asNode(nodeId).name AS name, score\n",
    "            \n",
    "            ORDER BY score DESC\n",
    "            LIMIT 20\n",
    "        \"\"\"\n",
    "    result = execute_read(driver, query)\n",
    "    pprint(result)\n",
    "except Exception as e:\n",
    "    pprint(e)"
   ]
  },
  {
   "cell_type": "markdown",
   "metadata": {},
   "source": [
    "#### 10. Using Graph Algorithms answer **one** of the following questions:\n",
    "    A. Which beer has the most similar reviews as the beer `Super Bock Stout`?\n",
    "    B. Which user is the most influential when it comes to reviews made?"
   ]
  },
  {
   "cell_type": "markdown",
   "metadata": {},
   "source": [
    " We chose to solve question B."
   ]
  },
  {
   "cell_type": "markdown",
   "metadata": {},
   "source": [
    "__Step 1:__ Delete any previously created graph to avoid conflicts and ensure a clean slate for the new graph projection."
   ]
  },
  {
   "cell_type": "code",
   "execution_count": 70,
   "metadata": {
    "ExecuteTime": {
     "end_time": "2024-03-16T18:18:49.782921Z",
     "start_time": "2024-03-16T18:18:49.747245Z"
    }
   },
   "outputs": [
    {
     "name": "stdout",
     "output_type": "stream",
     "text": [
      "ClientError('Failed to invoke procedure `gds.graph.drop`: Caused by: java.util.NoSuchElementException: Graph with name `user_review_graph` does not exist on database `neo4j`. It might exist on another database.')\n"
     ]
    }
   ],
   "source": [
    "# Step 0 - Clear graph\n",
    "\n",
    "try:\n",
    "    query = \"\"\"CALL gds.graph.drop('user_review_graph') YIELD graphName;  \"\"\"\n",
    "    result = execute_read(driver, query)\n",
    "    pprint(result)\n",
    "\n",
    "except Exception as e:\n",
    "    pprint(e)"
   ]
  },
  {
   "cell_type": "markdown",
   "metadata": {},
   "source": [
    "__Step 2:__ Create a graph to apply the PageRank algorithm. This graph consists of only two node types (users and reviews). The relationships are represented as (:REVIEWS)-[1]->(:USERS)."
   ]
  },
  {
   "cell_type": "code",
   "execution_count": 71,
   "metadata": {
    "ExecuteTime": {
     "end_time": "2024-03-16T18:19:20.266408Z",
     "start_time": "2024-03-16T18:18:49.782921Z"
    }
   },
   "outputs": [
    {
     "name": "stdout",
     "output_type": "stream",
     "text": [
      "[<Record nodeQuery=\"MATCH (n) \\n            WHERE head(Labels(n))='USER' or head(Labels(n))='REVIEWS' \\n            RETURN id(n) AS id\" relationshipQuery='MATCH (r:REVIEWS)-[:POSTED]->(u:USER)\\n            RETURN id(r) AS source,1 as weight, id(u) AS target' graphName='user_review_graph' nodeCount=9278044 relationshipCount=9073109 projectMillis=30382>]\n"
     ]
    }
   ],
   "source": [
    "# Creating the graph\n",
    "try:\n",
    "    query = \"\"\"\n",
    "        CALL gds.graph.project.cypher(\n",
    "            'user_review_graph',\n",
    "            \n",
    "            \"MATCH (n) \n",
    "            WHERE head(Labels(n))='USER' or head(Labels(n))='REVIEWS' \n",
    "            RETURN id(n) AS id\",\n",
    "            \n",
    "            'MATCH (r:REVIEWS)-[:POSTED]->(u:USER)\n",
    "            RETURN id(r) AS source,1 as weight, id(u) AS target'\n",
    "            )\n",
    "      \"\"\"\n",
    "    result = execute_read(driver, query)\n",
    "    pprint(result)\n",
    "except Exception as e:\n",
    "    pprint(e)"
   ]
  },
  {
   "cell_type": "markdown",
   "metadata": {},
   "source": [
    "__Step 3:__ After creating the graph, we can apply the PageRank algorithm to discover which user is the most influential."
   ]
  },
  {
   "cell_type": "code",
   "execution_count": 72,
   "metadata": {
    "ExecuteTime": {
     "end_time": "2024-03-16T18:19:23.276955Z",
     "start_time": "2024-03-16T18:19:20.267414Z"
    }
   },
   "outputs": [
    {
     "name": "stdout",
     "output_type": "stream",
     "text": [
      "[<Record nodeId=9494470 name='Sammy' score=1759.2675000004458>]\n"
     ]
    }
   ],
   "source": [
    "# Running the PageRank algorithm\n",
    "\n",
    "try:\n",
    "    query = \"\"\"\n",
    "        CALL gds.pageRank.stream('user_review_graph', {relationshipWeightProperty:'weight'})\n",
    "            \n",
    "            YIELD nodeId, score\n",
    "            \n",
    "            RETURN nodeId,gds.util.asNode(nodeId).name AS name, score\n",
    "            \n",
    "            ORDER BY score DESC\n",
    "            LIMIT 1\n",
    "        \"\"\"\n",
    "    result = execute_read(driver, query)\n",
    "    pprint(result)\n",
    "except Exception as e:\n",
    "    pprint(e)"
   ]
  },
  {
   "cell_type": "markdown",
   "metadata": {},
   "source": [
    "#### 11. If you had to pick 3 beers to recommend using only this database, which would you pick and why?"
   ]
  },
  {
   "cell_type": "markdown",
   "source": [
    "### As avid IMDB users we appreciate its rating system, therefore we have concocted a series of queries in order to try and evaluate which of these beers would that sort system classify as the best ones. As not everyone shares the same ideas for what constitutes a good beer or even appreciates it, it seems this might be a good way to recommend beers, as perhaps a means of popular vote rather than personal biases would be more fitting.\n",
    "### We also recognize that a beer suggested should still be available and produced, because of that we assume that a beer must not be retired, meaning {retired:'f'}, in order to be considered\n",
    "According to the IMDB's Wikipedia page the following formula is used to calculate the Top 250 Films' list:\n",
    "$$\n",
    "W = \\frac{R \\times v + C \\times m}{v + m}\n",
    "$$\n",
    "##### where:\n",
    "- $W$ is the weighted rating;\n",
    "- $R$ is the mean rating for the movie, from 1 to 10;\n",
    "- $v$ is the number of votes for the movie;\n",
    "- $m$ is the minimum votes required to be listed in the Top 250;\n",
    "- $C$ is the mean vote across the whole report;\n",
    "\n",
    "##### We have then determined that these variables will take the following shape for our scenario:\n",
    "- $W$ is the weighted score;\n",
    "- $R$ is the average score of a given beer;\n",
    "- $v$ is the number of reviews of said beer;\n",
    "- $m$ is the minimum number of reviews required to be considered one of the candidates for Best Beer;\n",
    "- $C$ is the global average review score;\n",
    "\n",
    "#### Since we have to set a criteria to choose $m$, for this case, we considered that the minimum number of reviews required to be considered one of the candidates for Best Beer must be higher than the average number of votes for the 250 most reviewed beers."
   ],
   "metadata": {
    "collapsed": false
   }
  },
  {
   "cell_type": "code",
   "outputs": [
    {
     "name": "stdout",
     "output_type": "stream",
     "text": [
      "[<Record average_review_count=5994.220000000005>]\n"
     ]
    }
   ],
   "source": [
    "# query='''\n",
    "#     MATCH (b:BEERS)-[:REVIEWED]->(re:REVIEWS)\n",
    "#     WITH b, COUNT(re) AS review_count\n",
    "#     ORDER BY review_count DESC\n",
    "#     LIMIT 250\n",
    "#     WITH AVG(review_count) AS average_review_count\n",
    "#     RETURN average_review_count\n",
    "# '''\n",
    "# result= execute_read(driver, query)\n",
    "# pprint(result)"
   ],
   "metadata": {
    "collapsed": false,
    "ExecuteTime": {
     "end_time": "2024-03-16T18:19:32.457209Z",
     "start_time": "2024-03-16T18:19:23.276955Z"
    }
   },
   "execution_count": 73
  },
  {
   "cell_type": "markdown",
   "source": [
    "### $m$ = 6000"
   ],
   "metadata": {
    "collapsed": false
   }
  },
  {
   "cell_type": "markdown",
   "source": [
    "### With the goal in mind already set, and the requirements needed to proceed to get the Top 3 beers, in accordance to what an IMDB rating system would be in this scenario, the following query outputs the id, the name and the weighted score of those beers."
   ],
   "metadata": {
    "collapsed": false
   }
  },
  {
   "cell_type": "code",
   "execution_count": 74,
   "metadata": {
    "collapsed": false,
    "ExecuteTime": {
     "end_time": "2024-03-16T18:20:33.237206Z",
     "start_time": "2024-03-16T18:19:32.457209Z"
    }
   },
   "outputs": [
    {
     "name": "stdout",
     "output_type": "stream",
     "text": [
      "[<Record beer_id='16814' beer_name='Heady Topper' weighted_score=4.470239725267033>,\n",
      " <Record beer_id='7971' beer_name='Pliny The Elder' weighted_score=4.428548387626803>,\n",
      " <Record beer_id='19960' beer_name='KBS (Kentucky Breakfast Stout)' weighted_score=4.3811816309485385>]\n"
     ]
    }
   ],
   "source": [
    "query ='''\n",
    "    CALL {\n",
    "        MATCH (re:REVIEWS)\n",
    "        RETURN AVG(coalesce(toFloat(re.score), null)) AS global_review_avg\n",
    "    }\n",
    "    MATCH (beer:BEERS{retired:'f'})-[:REVIEWED]->(review:REVIEWS)\n",
    "    WITH beer.id AS beer_id, \n",
    "     beer.name AS beer_name,\n",
    "     AVG(coalesce(toFloat(review.score), null)) AS avg_score,\n",
    "     COUNT(review) AS review_count,\n",
    "     global_review_avg\n",
    "    RETURN beer_id, \n",
    "       beer_name, \n",
    "       ((avg_score * review_count + global_review_avg * 6000) / (review_count + 6000)) AS weighted_score\n",
    "    ORDER BY weighted_score DESC\n",
    "    LIMIT 3\n",
    "'''\n",
    "result = execute_read(driver, query)\n",
    "pprint(result)"
   ]
  },
  {
   "cell_type": "markdown",
   "source": [
    "### Making sure that this weighted score does indeed level review scores based on the number of reviews a beer has."
   ],
   "metadata": {
    "collapsed": false
   }
  },
  {
   "cell_type": "code",
   "outputs": [
    {
     "name": "stdout",
     "output_type": "stream",
     "text": [
      "[<Record beer_name='Heady Topper' avg_score=4.713771880688968 review_count=14282>,\n",
      " <Record beer_name='Pliny The Elder' avg_score=4.6447993568701005 review_count=14927>,\n",
      " <Record beer_name='KBS (Kentucky Breakfast Stout)' avg_score=4.602003600630115 review_count=13331>]\n"
     ]
    }
   ],
   "source": [
    "# query ='''\n",
    "#     MATCH (beer:BEERS)-[:REVIEWED]->(review:REVIEWS)\n",
    "#     WHERE beer.id='16814' OR beer.id='7971' or beer.id='19960'\n",
    "#     RETURN DISTINCT beer.name AS beer_name, AVG(coalesce(toFloat(review.score), null)) AS avg_score, COUNT(review) AS review_count\n",
    "# '''\n",
    "# result = execute_read(driver, query)\n",
    "# pprint(result)"
   ],
   "metadata": {
    "collapsed": false,
    "ExecuteTime": {
     "end_time": "2024-03-16T18:20:33.407164Z",
     "start_time": "2024-03-16T18:20:33.237206Z"
    }
   },
   "execution_count": 75
  },
  {
   "cell_type": "code",
   "outputs": [
    {
     "name": "stdout",
     "output_type": "stream",
     "text": [
      "[<Record beer_name='Kentucky Brunch Brand Stout' avg_score=4.83773504273504 review_count=702>,\n",
      " <Record beer_name='Rare Bourbon County Brand Stout (2010)' avg_score=4.800911722141827 review_count=1382>,\n",
      " <Record beer_name='Good Morning' avg_score=4.780885466794998 review_count=1039>]\n"
     ]
    }
   ],
   "source": [
    "# query ='''\n",
    "#     MATCH (beer:BEERS)-[:REVIEWED]->(review:REVIEWS)\n",
    "#     WITH beer.name AS beer_name, AVG(coalesce(toFloat(review.score), null)) AS avg_score, COUNT(review) AS review_count\n",
    "#     WHERE review_count > 100\n",
    "#     RETURN beer_name, avg_score, review_count\n",
    "#     ORDER BY avg_score DESC\n",
    "#     LIMIT 3\n",
    "# '''\n",
    "# result = execute_read(driver, query)\n",
    "# pprint(result)"
   ],
   "metadata": {
    "collapsed": false,
    "ExecuteTime": {
     "end_time": "2024-03-16T18:21:01.243554Z",
     "start_time": "2024-03-16T18:20:33.407164Z"
    }
   },
   "execution_count": 76
  }
 ],
 "metadata": {
  "hide_input": false,
  "kernelspec": {
   "display_name": "Python 3 (ipykernel)",
   "language": "python",
   "name": "python3"
  },
  "language_info": {
   "codemirror_mode": {
    "name": "ipython",
    "version": 3
   },
   "file_extension": ".py",
   "mimetype": "text/x-python",
   "name": "python",
   "nbconvert_exporter": "python",
   "pygments_lexer": "ipython3",
   "version": "3.11.7"
  },
  "toc": {
   "base_numbering": 1,
   "nav_menu": {},
   "number_sections": true,
   "sideBar": true,
   "skip_h1_title": false,
   "title_cell": "Table of Contents",
   "title_sidebar": "Contents",
   "toc_cell": false,
   "toc_position": {},
   "toc_section_display": true,
   "toc_window_display": false
  },
  "varInspector": {
   "cols": {
    "lenName": 16,
    "lenType": 16,
    "lenVar": 40
   },
   "kernels_config": {
    "python": {
     "delete_cmd_postfix": "",
     "delete_cmd_prefix": "del ",
     "library": "var_list.py",
     "varRefreshCmd": "print(var_dic_list())"
    },
    "r": {
     "delete_cmd_postfix": ") ",
     "delete_cmd_prefix": "rm(",
     "library": "var_list.r",
     "varRefreshCmd": "cat(var_dic_list()) "
    }
   },
   "types_to_exclude": [
    "module",
    "function",
    "builtin_function_or_method",
    "instance",
    "_Feature"
   ],
   "window_display": false
  }
 },
 "nbformat": 4,
 "nbformat_minor": 4
}
